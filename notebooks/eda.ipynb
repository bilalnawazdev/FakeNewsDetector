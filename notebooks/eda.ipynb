{
 "cells": [
  {
   "cell_type": "code",
   "execution_count": null,
   "id": "bb011bac",
   "metadata": {},
   "outputs": [],
   "source": [
    "\n",
    "import pandas as pd\n",
    "import matplotlib.pyplot as plt\n",
    "import seaborn as sns\n",
    "from config import CLEANED_DATA_PATH"
   ]
  },
  {
   "cell_type": "code",
   "execution_count": null,
   "id": "792a41fe",
   "metadata": {},
   "outputs": [],
   "source": [
    "df = pd.read_csv(CLEANED_DATA_PATH)\n",
    "\n",
    "print(\"Dataset shape:\", df.shape)\n",
    "print(df.head())"
   ]
  },
  {
   "cell_type": "code",
   "execution_count": null,
   "id": "702c6536",
   "metadata": {},
   "outputs": [],
   "source": [
    "df[\"clean_text\"] = df[\"clean_text\"].fillna(\"\")\n",
    "plt.figure(figsize=(5,4))\n",
    "sns.countplot(x=\"label\", data=df)\n",
    "plt.title(\"Label Distribution (0=Real, 1=Fake)\")\n",
    "plt.xlabel(\"Label\")\n",
    "plt.ylabel(\"Count\")\n",
    "plt.show()"
   ]
  },
  {
   "cell_type": "code",
   "execution_count": null,
   "id": "07f528a0",
   "metadata": {},
   "outputs": [],
   "source": [
    "df[\"text_length\"] = df[\"clean_text\"].apply(lambda x: len(str(x).split()))\n",
    "\n",
    "plt.figure(figsize=(6,4))\n",
    "sns.histplot(df[\"text_length\"], bins=10, kde=False)\n",
    "plt.title(\"Article Length Distribution (in words)\")\n",
    "plt.xlabel(\"Word Count\")\n",
    "plt.ylabel(\"Frequency\")\n",
    "plt.show()"
   ]
  },
  {
   "cell_type": "code",
   "execution_count": null,
   "id": "3869fd31",
   "metadata": {},
   "outputs": [],
   "source": [
    "print(\"Real News Example:\")\n",
    "print(df[df[\"label\"] == 0][\"clean_text\"].head(2).to_list())\n",
    "\n",
    "print(\"Fake News Example:\")\n",
    "print(df[df[\"label\"] == 1][\"clean_text\"].head(2).to_list())"
   ]
  }
 ],
 "metadata": {
  "kernelspec": {
   "display_name": "Python 3",
   "language": "python",
   "name": "python3"
  },
  "language_info": {
   "codemirror_mode": {
    "name": "ipython",
    "version": 3
   },
   "file_extension": ".py",
   "mimetype": "text/x-python",
   "name": "python",
   "nbconvert_exporter": "python",
   "pygments_lexer": "ipython3"
  }
 },
 "nbformat": 4,
 "nbformat_minor": 5
}
